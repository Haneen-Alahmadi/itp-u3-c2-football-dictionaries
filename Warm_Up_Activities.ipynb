{
  "cells": [
    {
      "cell_type": "markdown",
      "metadata": {
        "id": "SthPkhJAukUZ"
      },
      "source": [
        "# Warm Up Activities\n",
        "\n",
        "In this notebook you'll find a few different exercises combining dictionaries and lists in order to practice before the main activity of this project, Football Dictionaries."
      ]
    },
    {
      "cell_type": "markdown",
      "metadata": {
        "id": "I1fjTtDuukUb"
      },
      "source": [
        "## 1. Transform a user into a dictionary\n",
        "\n",
        "Write a function `build_user_as_dict` that receives three parameters (`name, email, age`) and returns a dictionary:"
      ]
    },
    {
      "cell_type": "markdown",
      "metadata": {
        "id": "JHTC6kNdukUb"
      },
      "source": [
        "##### ## Your Task ##"
      ]
    },
    {
      "cell_type": "code",
      "execution_count": 2,
      "metadata": {
        "id": "lGRXVoTQukUc"
      },
      "outputs": [],
      "source": [
        "def build_user_as_dict(name, email, age):\n",
        "  dic={}\n",
        "  dic['name']=name\n",
        "  dic['email']=email\n",
        "  dic['age']=age\n",
        "  return dic"
      ]
    },
    {
      "cell_type": "markdown",
      "metadata": {
        "id": "b6TS5oLFukUd"
      },
      "source": [
        "##### Examples:\n",
        "\n",
        "The following code"
      ]
    },
    {
      "cell_type": "code",
      "execution_count": 3,
      "metadata": {
        "colab": {
          "base_uri": "https://localhost:8080/"
        },
        "id": "TMfZW5aEukUd",
        "outputId": "8e35f038-a2b0-4e34-8d07-b2dfc93545e1"
      },
      "outputs": [
        {
          "output_type": "execute_result",
          "data": {
            "text/plain": [
              "{'name': 'John', 'email': 'john@gmail.com', 'age': 31}"
            ]
          },
          "metadata": {},
          "execution_count": 3
        }
      ],
      "source": [
        "build_user_as_dict('John', 'john@gmail.com', 31)"
      ]
    },
    {
      "cell_type": "markdown",
      "metadata": {
        "id": "CsFkawj1ukUd"
      },
      "source": [
        "should produce this output:"
      ]
    },
    {
      "cell_type": "code",
      "execution_count": 4,
      "metadata": {
        "colab": {
          "base_uri": "https://localhost:8080/"
        },
        "id": "wVaBeS0iukUe",
        "outputId": "26ed333e-6fc3-4018-a5a2-f9984baf4cdc"
      },
      "outputs": [
        {
          "output_type": "execute_result",
          "data": {
            "text/plain": [
              "{'name': 'John', 'email': 'john@gmail.com', 'age': 31}"
            ]
          },
          "metadata": {},
          "execution_count": 4
        }
      ],
      "source": [
        "{\n",
        "    'name': 'John',\n",
        "    'email': 'john@gmail.com',\n",
        "    'age': 31\n",
        "}"
      ]
    },
    {
      "cell_type": "markdown",
      "metadata": {
        "id": "AOQGrfDAukUe"
      },
      "source": [
        "##### == Tests =="
      ]
    },
    {
      "cell_type": "code",
      "execution_count": 5,
      "metadata": {
        "id": "rU50OcfSukUe"
      },
      "outputs": [],
      "source": [
        "assert build_user_as_dict('John', 'john@gmail.com', 31) == {\n",
        "    'name': 'John',\n",
        "    'email': 'john@gmail.com',\n",
        "    'age': 31\n",
        "}"
      ]
    },
    {
      "cell_type": "code",
      "execution_count": 6,
      "metadata": {
        "id": "bBX03ArhukUe"
      },
      "outputs": [],
      "source": [
        "assert build_user_as_dict('Mary', 'mary@hotmail.com', 28) == {\n",
        "    'name': 'Mary',\n",
        "    'email': 'mary@hotmail.com',\n",
        "    'age': 28\n",
        "}"
      ]
    },
    {
      "cell_type": "markdown",
      "metadata": {
        "id": "rTDpKUnFukUf"
      },
      "source": [
        "---\n",
        "\n",
        "## 2. Transform list into dictionary\n",
        "\n",
        "The function `transform_user_list_to_dict` receives a list with the user information and transforms it into a dictionary.\n",
        "\n",
        "Here's an example list, as you can see, the name is in the first position, email in 2nd and age in 3rd:"
      ]
    },
    {
      "cell_type": "code",
      "execution_count": 7,
      "metadata": {
        "colab": {
          "base_uri": "https://localhost:8080/"
        },
        "id": "8EcDyUPaukUf",
        "outputId": "b8339d05-ec20-480b-eadf-803f57b9d2bc"
      },
      "outputs": [
        {
          "output_type": "execute_result",
          "data": {
            "text/plain": [
              "['Mary', 'mary@hotmail.com', 28]"
            ]
          },
          "metadata": {},
          "execution_count": 7
        }
      ],
      "source": [
        "['Mary', 'mary@hotmail.com', 28]"
      ]
    },
    {
      "cell_type": "markdown",
      "metadata": {
        "id": "G-DOM6LuukUf"
      },
      "source": [
        "##### ## Your Task ##"
      ]
    },
    {
      "cell_type": "code",
      "execution_count": 8,
      "metadata": {
        "id": "8-wOqvb5ukUf"
      },
      "outputs": [],
      "source": [
        "def transform_user_list_to_dict(a_user):\n",
        "    dic={}\n",
        "    dic['name']=a_user[0]\n",
        "    dic['email']=a_user[1]\n",
        "    dic['age']=a_user[2]\n",
        "    return dic"
      ]
    },
    {
      "cell_type": "markdown",
      "metadata": {
        "id": "112mN5-GukUg"
      },
      "source": [
        "##### Examples:\n",
        "\n",
        "The following code"
      ]
    },
    {
      "cell_type": "code",
      "execution_count": 9,
      "metadata": {
        "colab": {
          "base_uri": "https://localhost:8080/"
        },
        "id": "9anap1DhukUg",
        "outputId": "7b748d72-b7f4-427c-d5f6-f3c58eff8c8f"
      },
      "outputs": [
        {
          "output_type": "execute_result",
          "data": {
            "text/plain": [
              "{'name': 'Mary', 'email': 'mary@hotmail.com', 'age': 28}"
            ]
          },
          "metadata": {},
          "execution_count": 9
        }
      ],
      "source": [
        "transform_user_list_to_dict(['Mary', 'mary@hotmail.com', 28])"
      ]
    },
    {
      "cell_type": "markdown",
      "metadata": {
        "id": "i2DhRQUVukUg"
      },
      "source": [
        "should produce this output:"
      ]
    },
    {
      "cell_type": "code",
      "execution_count": 10,
      "metadata": {
        "colab": {
          "base_uri": "https://localhost:8080/"
        },
        "id": "TzBwjVXFukUg",
        "outputId": "eb7d717d-e133-43e5-ba2d-a387f6dd19d8"
      },
      "outputs": [
        {
          "output_type": "execute_result",
          "data": {
            "text/plain": [
              "{'name': 'Mary', 'email': 'mary@hotmail.com', 'age': 28}"
            ]
          },
          "metadata": {},
          "execution_count": 10
        }
      ],
      "source": [
        "{\n",
        "    'name': 'Mary',\n",
        "    'email': 'mary@hotmail.com',\n",
        "    'age': 28\n",
        "}"
      ]
    },
    {
      "cell_type": "markdown",
      "metadata": {
        "id": "fOkES3kGukUg"
      },
      "source": [
        "##### == Tests =="
      ]
    },
    {
      "cell_type": "code",
      "execution_count": 11,
      "metadata": {
        "id": "Bt_C_QLzukUh"
      },
      "outputs": [],
      "source": [
        "l1 = ['John', 'john@gmail.com', 31]\n",
        "\n",
        "assert transform_user_list_to_dict(l1) == {\n",
        "    'name': 'John',\n",
        "    'email': 'john@gmail.com',\n",
        "    'age': 31\n",
        "}"
      ]
    },
    {
      "cell_type": "code",
      "execution_count": 12,
      "metadata": {
        "id": "Teih8D9iukUh"
      },
      "outputs": [],
      "source": [
        "l2 = ['Mary', 'mary@hotmail.com', 28]\n",
        "\n",
        "assert transform_user_list_to_dict(l2) == {\n",
        "    'name': 'Mary',\n",
        "    'email': 'mary@hotmail.com',\n",
        "    'age': 28\n",
        "}"
      ]
    },
    {
      "cell_type": "markdown",
      "metadata": {
        "id": "cKTH-9TcukUh"
      },
      "source": [
        "---\n",
        "\n",
        "## 3. Transform multiple users to dictionary list\n",
        "\n",
        "We're now going to combine multiple dictionaries in a list. If we have 2 users in the form of lists:"
      ]
    },
    {
      "cell_type": "code",
      "execution_count": 13,
      "metadata": {
        "colab": {
          "base_uri": "https://localhost:8080/"
        },
        "id": "hDAXsB5XukUi",
        "outputId": "be27f9d4-c004-4fe7-8fd1-99d76da91eb8"
      },
      "outputs": [
        {
          "output_type": "execute_result",
          "data": {
            "text/plain": [
              "[['John', 'john@gmail.com', 31], ['Mary', 'mary@hotmail.com', 28]]"
            ]
          },
          "metadata": {},
          "execution_count": 13
        }
      ],
      "source": [
        "users = [\n",
        "    ['John', 'john@gmail.com', 31],\n",
        "    ['Mary', 'mary@hotmail.com', 28]\n",
        "]\n",
        "users"
      ]
    },
    {
      "cell_type": "markdown",
      "metadata": {
        "id": "3-ZUjD08ukUi"
      },
      "source": [
        "we want to see them now represented as dictionaries:"
      ]
    },
    {
      "cell_type": "code",
      "execution_count": 14,
      "metadata": {
        "colab": {
          "base_uri": "https://localhost:8080/"
        },
        "id": "vMCNOCu2ukUi",
        "outputId": "a23a5040-e48f-41d0-9c12-1acfa9c54c16"
      },
      "outputs": [
        {
          "output_type": "execute_result",
          "data": {
            "text/plain": [
              "[{'name': 'John', 'email': 'john@gmail.com', 'age': 31},\n",
              " {'name': 'Mary', 'email': 'mary@hotmail.com', 'age': 28}]"
            ]
          },
          "metadata": {},
          "execution_count": 14
        }
      ],
      "source": [
        "[{\n",
        "    'name': 'John',\n",
        "    'email': 'john@gmail.com',\n",
        "    'age': 31\n",
        "}, {\n",
        "    'name': 'Mary',\n",
        "    'email': 'mary@hotmail.com',\n",
        "    'age': 28\n",
        "}]"
      ]
    },
    {
      "cell_type": "markdown",
      "metadata": {
        "id": "4DDlpBXvukUi"
      },
      "source": [
        "We transform a list of lists, into a list of dictonaries."
      ]
    },
    {
      "cell_type": "markdown",
      "metadata": {
        "id": "kDfgY4PrukUi"
      },
      "source": [
        "##### ## Your Task ##"
      ]
    },
    {
      "cell_type": "code",
      "execution_count": 15,
      "metadata": {
        "id": "45bWYvRQukUi"
      },
      "outputs": [],
      "source": [
        "def transform_multiple_users_to_dicts(multiple_users):\n",
        "    dic={}\n",
        "    list=[]\n",
        "    for i in multiple_users:\n",
        "        dic['name']=i[0]\n",
        "        dic['email']=i[1]\n",
        "        dic['age']=i[2]\n",
        "        list.append(dic)\n",
        "        dic={}\n",
        "    return list"
      ]
    },
    {
      "cell_type": "markdown",
      "metadata": {
        "id": "LMwsKCCqukUj"
      },
      "source": [
        "##### Examples:\n",
        "\n",
        "The following code"
      ]
    },
    {
      "cell_type": "code",
      "execution_count": 16,
      "metadata": {
        "colab": {
          "base_uri": "https://localhost:8080/"
        },
        "id": "-rHYIIEDukUj",
        "outputId": "fde09a53-2237-49cc-fe93-1f77f58bf080"
      },
      "outputs": [
        {
          "output_type": "execute_result",
          "data": {
            "text/plain": [
              "[{'name': 'John', 'email': 'john@gmail.com', 'age': 31},\n",
              " {'name': 'Mary', 'email': 'mary@hotmail.com', 'age': 28}]"
            ]
          },
          "metadata": {},
          "execution_count": 16
        }
      ],
      "source": [
        "users = [\n",
        "    ['John', 'john@gmail.com', 31],\n",
        "    ['Mary', 'mary@hotmail.com', 28]\n",
        "]\n",
        "\n",
        "transform_multiple_users_to_dicts(users)"
      ]
    },
    {
      "cell_type": "markdown",
      "metadata": {
        "id": "Oys76dlqukUj"
      },
      "source": [
        "should produce this output:"
      ]
    },
    {
      "cell_type": "code",
      "execution_count": 17,
      "metadata": {
        "colab": {
          "base_uri": "https://localhost:8080/"
        },
        "id": "8s_LqHZDukUj",
        "outputId": "993fc5c0-fcae-4409-e44b-697b45499ab1"
      },
      "outputs": [
        {
          "output_type": "execute_result",
          "data": {
            "text/plain": [
              "[{'name': 'John', 'email': 'john@gmail.com', 'age': 31},\n",
              " {'name': 'Mary', 'email': 'mary@hotmail.com', 'age': 28}]"
            ]
          },
          "metadata": {},
          "execution_count": 17
        }
      ],
      "source": [
        "[{\n",
        "    'name': 'John',\n",
        "    'email': 'john@gmail.com',\n",
        "    'age': 31\n",
        "}, {\n",
        "    'name': 'Mary',\n",
        "    'email': 'mary@hotmail.com',\n",
        "    'age': 28\n",
        "}]"
      ]
    },
    {
      "cell_type": "markdown",
      "metadata": {
        "id": "uOcOWfy6ukUk"
      },
      "source": [
        "##### == Tests =="
      ]
    },
    {
      "cell_type": "code",
      "execution_count": 18,
      "metadata": {
        "id": "xYHOw5P1ukUk"
      },
      "outputs": [],
      "source": [
        "users = [\n",
        "    ['John', 'john@gmail.com', 31],\n",
        "    ['Mary', 'mary@hotmail.com', 28],\n",
        "    ['Rose', 'rose@yahoo.com', 30]\n",
        "]\n",
        "\n",
        "users_as_dict = transform_multiple_users_to_dicts(users)\n",
        "\n",
        "assert users_as_dict == [{\n",
        "    'name': 'John',\n",
        "    'email': 'john@gmail.com',\n",
        "    'age': 31\n",
        "}, {\n",
        "    'name': 'Mary',\n",
        "    'email': 'mary@hotmail.com',\n",
        "    'age': 28\n",
        "}, {\n",
        "    'name': 'Rose',\n",
        "    'email': 'rose@yahoo.com',\n",
        "    'age': 30\n",
        "}]\n"
      ]
    },
    {
      "cell_type": "markdown",
      "metadata": {
        "id": "gXzuRsTqukUk"
      },
      "source": [
        "---\n",
        "\n",
        "## 4. Group users by email domain\n",
        "\n",
        "The function `group_users_by_email_domain` will receive a list of users as dictionaries, like the following one:"
      ]
    },
    {
      "cell_type": "code",
      "execution_count": 19,
      "metadata": {
        "colab": {
          "base_uri": "https://localhost:8080/"
        },
        "id": "yS8PkR3oukUk",
        "outputId": "047b7e70-a370-4072-c914-0cd8ce2af790"
      },
      "outputs": [
        {
          "output_type": "execute_result",
          "data": {
            "text/plain": [
              "[{'name': 'John', 'email': 'john@gmail.com', 'age': 31},\n",
              " {'name': 'Mary', 'email': 'mary@hotmail.com', 'age': 28},\n",
              " {'name': 'Rose', 'email': 'Rose@gmail.com', 'age': 30}]"
            ]
          },
          "metadata": {},
          "execution_count": 19
        }
      ],
      "source": [
        "[{\n",
        "    'name': 'John',\n",
        "    'email': 'john@gmail.com',\n",
        "    'age': 31\n",
        "}, {\n",
        "    'name': 'Mary',\n",
        "    'email': 'mary@hotmail.com',\n",
        "    'age': 28\n",
        "}, {\n",
        "    'name': 'Rose',\n",
        "    'email': 'Rose@gmail.com',\n",
        "    'age': 30\n",
        "}]"
      ]
    },
    {
      "cell_type": "markdown",
      "metadata": {
        "id": "WMTR3wnEukUk"
      },
      "source": [
        "and it should group them by the domain name of their email, something like:\n",
        "\n",
        "* gmail.com:\n",
        " * Rose\n",
        " * John\n",
        "* hotmail.com:\n",
        " * Mary\n",
        "\n",
        "Which in code looks like:"
      ]
    },
    {
      "cell_type": "code",
      "execution_count": 20,
      "metadata": {
        "colab": {
          "base_uri": "https://localhost:8080/"
        },
        "id": "YSzD-tSUukUo",
        "outputId": "9c9f7a9d-3cbb-4c69-9d4a-21a1191aaf2f"
      },
      "outputs": [
        {
          "output_type": "execute_result",
          "data": {
            "text/plain": [
              "{'gmail.com': [{'name': 'John', 'email': 'john@gmail.com', 'age': 31},\n",
              "  {'name': 'Rose', 'email': 'Rose@gmail.com', 'age': 30}],\n",
              " 'hotmail.com': [{'name': 'Mary', 'email': 'mary@hotmail.com', 'age': 28}]}"
            ]
          },
          "metadata": {},
          "execution_count": 20
        }
      ],
      "source": [
        "{\n",
        "    'gmail.com': [{\n",
        "        'name': 'John',\n",
        "        'email': 'john@gmail.com',\n",
        "        'age': 31\n",
        "    }, {\n",
        "        'name': 'Rose',\n",
        "        'email': 'Rose@gmail.com',\n",
        "        'age': 30\n",
        "    }],\n",
        "    'hotmail.com': [{\n",
        "        'name': 'Mary',\n",
        "        'email': 'mary@hotmail.com',\n",
        "        'age': 28\n",
        "    }]\n",
        "}"
      ]
    },
    {
      "cell_type": "markdown",
      "metadata": {
        "id": "FoI7ymO4ukUv"
      },
      "source": [
        "##### ## Your Task ##"
      ]
    },
    {
      "cell_type": "code",
      "execution_count": 21,
      "metadata": {
        "id": "R0iatiPwukUv"
      },
      "outputs": [],
      "source": [
        "def group_users_by_email_domain(multiple_users):\n",
        "    dic={}\n",
        "    list=[]\n",
        "    for i in multiple_users:\n",
        "        if i['email'].split('@')[1] in dic:\n",
        "            dic[i['email'].split('@')[1]].append(i)\n",
        "        else:\n",
        "            dic[i['email'].split('@')[1]]=[i]\n",
        "\n",
        "    return dic"
      ]
    },
    {
      "cell_type": "markdown",
      "metadata": {
        "id": "I4vyWSzlukUw"
      },
      "source": [
        "##### == Tests =="
      ]
    },
    {
      "cell_type": "code",
      "execution_count": 22,
      "metadata": {
        "id": "KX2jPwveukUw"
      },
      "outputs": [],
      "source": [
        "users = [{\n",
        "    'name': 'John',\n",
        "    'email': 'john@gmail.com',     # gmail\n",
        "    'age': 31\n",
        "}, {\n",
        "    'name': 'Mary',\n",
        "    'email': 'mary@hotmail.com',   # hotmail\n",
        "    'age': 28\n",
        "}, {\n",
        "    'name': 'Rose',\n",
        "    'email': 'rose@yahoo.com',     # yahoo\n",
        "    'age': 30\n",
        "}, {\n",
        "    'name': 'Jane',\n",
        "    'email': 'jane@gmail.com',     # gmail\n",
        "    'age': 25\n",
        "}, {\n",
        "    'name': 'Dustin',\n",
        "    'email': 'dustin@hotmail.com',  # hotmail\n",
        "    'age': 35\n",
        "}]\n",
        "\n",
        "users_grouped = group_users_by_email_domain(users)\n",
        "\n",
        "assert users_grouped == {\n",
        "    'gmail.com': [{\n",
        "        'name': 'John',\n",
        "        'email': 'john@gmail.com',     # gmail\n",
        "        'age': 31\n",
        "    }, {\n",
        "        'name': 'Jane',\n",
        "        'email': 'jane@gmail.com',     # gmail\n",
        "        'age': 25\n",
        "    }],\n",
        "    'hotmail.com': [{\n",
        "        'name': 'Mary',\n",
        "        'email': 'mary@hotmail.com',   # hotmail\n",
        "        'age': 28\n",
        "    }, {\n",
        "        'name': 'Dustin',\n",
        "        'email': 'dustin@hotmail.com',  # hotmail\n",
        "        'age': 35\n",
        "    }],\n",
        "    'yahoo.com': [{\n",
        "        'name': 'Rose',\n",
        "        'email': 'rose@yahoo.com',     # yahoo\n",
        "        'age': 30\n",
        "    }]\n",
        "}"
      ]
    },
    {
      "cell_type": "code",
      "execution_count": 23,
      "metadata": {
        "id": "RNVeacW_ukUw"
      },
      "outputs": [],
      "source": [
        "users = [{\n",
        "    'name': 'Jason',\n",
        "    'email': 'jason@rmotr.com',\n",
        "    'age': 61\n",
        "}]\n",
        "users_grouped = group_users_by_email_domain(users)\n",
        "\n",
        "assert users_grouped == {\n",
        "    'rmotr.com': [{\n",
        "        'name': 'Jason',\n",
        "        'email': 'jason@rmotr.com',\n",
        "        'age': 61\n",
        "    }]\n",
        "}\n"
      ]
    }
  ],
  "metadata": {
    "kernelspec": {
      "display_name": "Python 3",
      "language": "python",
      "name": "python3"
    },
    "language_info": {
      "codemirror_mode": {
        "name": "ipython",
        "version": 3
      },
      "file_extension": ".py",
      "mimetype": "text/x-python",
      "name": "python",
      "nbconvert_exporter": "python",
      "pygments_lexer": "ipython3",
      "version": "3.6.6"
    },
    "colab": {
      "provenance": []
    }
  },
  "nbformat": 4,
  "nbformat_minor": 0
}